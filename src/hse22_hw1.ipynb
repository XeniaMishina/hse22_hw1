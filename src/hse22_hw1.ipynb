{
  "nbformat": 4,
  "nbformat_minor": 0,
  "metadata": {
    "colab": {
      "provenance": []
    },
    "kernelspec": {
      "name": "python3",
      "display_name": "Python 3"
    },
    "language_info": {
      "name": "python"
    }
  },
  "cells": [
    {
      "cell_type": "markdown",
      "source": [
        "# Основная часть задания"
      ],
      "metadata": {
        "id": "pmL3XANVhSA3"
      }
    },
    {
      "cell_type": "code",
      "source": [
        "# функция для анализа \n",
        "# возвращает либо максимальную последовательность, либо общую информацию для печати\n",
        "def analysis(file, title, return_max_seq=False):\n",
        "    # ищем длины, максимальную длину, максимальную последовательность и т.д.\n",
        "    n50 = total_len = max_len = length = count = score = 0 \n",
        "    max_seq = ''\n",
        "    curr_seq = ''\n",
        "    all_lengths = []\n",
        "    \n",
        "    for line in file:\n",
        "        if line[0] == '>':\n",
        "            if count != 0:\n",
        "                all_lengths.append(length)\n",
        "            count += 1\n",
        "            if length >= max_len:\n",
        "                max_len = length\n",
        "                max_seq = curr_seq\n",
        "            curr_seq = ''\n",
        "            length = 0\n",
        "        else:\n",
        "            curr_seq += line.strip()\n",
        "            length += len(line.strip())\n",
        "            total_len += len(line.strip())\n",
        "    \n",
        "    # сортируем по убыванию, чтобы найти N50\n",
        "    all_lengths.sort(reverse=True) \n",
        "     \n",
        "    # ждем, пока текущая сумма станет не менее половины общей длины \n",
        "    for l in all_lengths:\n",
        "        score += l\n",
        "        if score >= total_len / 2:\n",
        "          n50 = l\n",
        "          break\n",
        "\n",
        "    if return_max_seq:\n",
        "      return max_seq\n",
        "\n",
        "    return title, count, total_len, max_len, n50\n",
        "\n",
        "# функция, печатающая информацию\n",
        "def print_information(info):\n",
        "  print(f'{info[0]}')\n",
        "  print(f'Общее количество: {info[1]},')\n",
        "  print(f'Общая длина: {info[2]},')\n",
        "  print(f'Максимальная длина: {info[3]},')\n",
        "  print(f'N50: {info[4]}')\n",
        "  \n",
        "# функция, записывающая максимальную последовательность в файл\n",
        "def get_file(max_seq, file_name):\n",
        "  f = open(file_name, \"w\")\n",
        "  f.write(max_seq)\n",
        "  f.close()\n",
        "\n",
        "\n"
      ],
      "metadata": {
        "id": "TDZVKKx0hVbi"
      },
      "execution_count": 2,
      "outputs": []
    },
    {
      "cell_type": "markdown",
      "source": [
        "## Анализ контигов"
      ],
      "metadata": {
        "id": "BlgwChjDy67j"
      }
    },
    {
      "cell_type": "code",
      "source": [
        "print_information(analysis(open(\"Poil_contig.fa\", \"r\"), \"Анализ контигов\"))\n"
      ],
      "metadata": {
        "colab": {
          "base_uri": "https://localhost:8080/"
        },
        "id": "-lP60iuhxhfk",
        "outputId": "ecf75fd8-1307-4085-a849-d2867ad896f6"
      },
      "execution_count": 35,
      "outputs": [
        {
          "output_type": "stream",
          "name": "stdout",
          "text": [
            "Анализ контигов\n",
            "Общее количество: 614,\n",
            "Общая длина: 3925660,\n",
            "Максимальная длина: 158019,\n",
            "N50: 52802\n"
          ]
        }
      ]
    },
    {
      "cell_type": "markdown",
      "source": [
        "## Анализ скаффолдов"
      ],
      "metadata": {
        "id": "fDPvbUvy2UPJ"
      }
    },
    {
      "cell_type": "code",
      "source": [
        "print_information(analysis(open(\"Poil_scaffold.fa\", \"r\"), \"Анализ скаффолдов\"))\n"
      ],
      "metadata": {
        "colab": {
          "base_uri": "https://localhost:8080/"
        },
        "id": "3VDpp8qmzb9n",
        "outputId": "be76251b-880a-4917-f922-b2b981f2f733"
      },
      "execution_count": 36,
      "outputs": [
        {
          "output_type": "stream",
          "name": "stdout",
          "text": [
            "Анализ скаффолдов\n",
            "Общее количество: 67,\n",
            "Общая длина: 3873790,\n",
            "Максимальная длина: 3834604,\n",
            "N50: 3834604\n"
          ]
        }
      ]
    },
    {
      "cell_type": "markdown",
      "source": [
        "## Запись наибольших скаффолдов"
      ],
      "metadata": {
        "id": "Xn-yvYhcy2JK"
      }
    },
    {
      "cell_type": "code",
      "source": [
        "# записываем в файл масимальный скаффолд\n",
        "max_seq = analysis(open(\"Poil_scaffold.fa\", \"r\"), \"Анализ скаффолдов\", return_max_seq=True)\n",
        "get_file(max_seq, \"longest.fa\")"
      ],
      "metadata": {
        "id": "GlFjfNrn43BY"
      },
      "execution_count": 47,
      "outputs": []
    },
    {
      "cell_type": "code",
      "source": [
        "# записываем максимальный скаффолд для уменьшенного кол-ва гэпов\n",
        "max_seq = analysis(open(\"Poil_gapClosed.fa\", \"r\"), \"Анализ скаффолдов\", return_max_seq=True)\n",
        "get_file(max_seq, \"longest_trim.fa\")"
      ],
      "metadata": {
        "id": "ccIPUdFZ6U4c"
      },
      "execution_count": 48,
      "outputs": []
    },
    {
      "cell_type": "markdown",
      "source": [
        "## Гэпы"
      ],
      "metadata": {
        "id": "ZVO0Vx296Yij"
      }
    },
    {
      "cell_type": "code",
      "source": [
        "import re"
      ],
      "metadata": {
        "id": "wA1dzn527H2_"
      },
      "execution_count": 7,
      "outputs": []
    },
    {
      "cell_type": "markdown",
      "source": [
        "### до уменьшения"
      ],
      "metadata": {
        "id": "95NQtS5w65Wn"
      }
    },
    {
      "cell_type": "code",
      "source": [
        "# общая длина\n",
        "max_seq = analysis(open(\"Poil_scaffold.fa\", \"r\"), \"Анализ скаффолдов\", return_max_seq=True)\n",
        "print(f'Общая длина гэпов: {max_seq.count(\"N\")}')\n",
        "\n",
        "# количество гэпов\n",
        "max_seq = re.sub(r'N{2,}', 'N', max_seq)\n",
        "print(f'Количество гэпов: {max_seq.count(\"N\")}')"
      ],
      "metadata": {
        "colab": {
          "base_uri": "https://localhost:8080/"
        },
        "id": "myNLqtvz6dOr",
        "outputId": "9abb7e65-4115-42e3-c1e1-9b84a697acbb"
      },
      "execution_count": 46,
      "outputs": [
        {
          "output_type": "stream",
          "name": "stdout",
          "text": [
            "Общая длина гэпов: 6753\n",
            "Количество гэпов: 62\n"
          ]
        }
      ]
    },
    {
      "cell_type": "markdown",
      "source": [
        "### после уменьшения"
      ],
      "metadata": {
        "id": "_-zO0BYd6_ha"
      }
    },
    {
      "cell_type": "code",
      "source": [
        "# общая длина\n",
        "max_seq = analysis(open(\"Poil_gapClosed.fa\", \"r\"), \"Анализ скаффолдов\", return_max_seq=True)\n",
        "print(f'Общая длина гэпов: {max_seq.count(\"N\")}')\n",
        "\n",
        "# количество гэпов\n",
        "max_seq = re.sub(r'N{2,}', 'N', max_seq)\n",
        "print(f'Количество гэпов: {max_seq.count(\"N\")}')"
      ],
      "metadata": {
        "colab": {
          "base_uri": "https://localhost:8080/"
        },
        "id": "CVPH85FY7C69",
        "outputId": "76a70138-6425-4f9d-edea-5aa792185337"
      },
      "execution_count": 45,
      "outputs": [
        {
          "output_type": "stream",
          "name": "stdout",
          "text": [
            "Общая длина гэпов: 1450\n",
            "Количество гэпов: 9\n"
          ]
        }
      ]
    },
    {
      "cell_type": "markdown",
      "source": [
        "# Бонусная часть\n",
        "\n",
        "в 2 раза меньше чтений"
      ],
      "metadata": {
        "id": "yLcneKIQx7X5"
      }
    },
    {
      "cell_type": "markdown",
      "source": [
        "## Анализ контигов"
      ],
      "metadata": {
        "id": "yv7GgSQayVaE"
      }
    },
    {
      "cell_type": "code",
      "source": [
        "print_information(analysis(open(\"Poil_contig_extra.fa\", \"r\"), \"Анализ контигов\"))"
      ],
      "metadata": {
        "colab": {
          "base_uri": "https://localhost:8080/"
        },
        "id": "eSSYWyHax-OK",
        "outputId": "f9ae5c11-8293-4b36-f266-84ac83dea699"
      },
      "execution_count": 3,
      "outputs": [
        {
          "output_type": "stream",
          "name": "stdout",
          "text": [
            "Анализ контигов\n",
            "Общее количество: 679,\n",
            "Общая длина: 3921894,\n",
            "Максимальная длина: 166906,\n",
            "N50: 67653\n"
          ]
        }
      ]
    },
    {
      "cell_type": "markdown",
      "source": [
        "## Анализ скаффолдов"
      ],
      "metadata": {
        "id": "9N8A9tDFywgv"
      }
    },
    {
      "cell_type": "code",
      "source": [
        "print_information(analysis(open(\"Poil_scaffold_extra.fa\", \"r\"), \"Анализ скаффолдов\"))"
      ],
      "metadata": {
        "colab": {
          "base_uri": "https://localhost:8080/"
        },
        "id": "II-eSc3BytTj",
        "outputId": "b4aef62d-1775-40bb-f7e3-6df040c48290"
      },
      "execution_count": 4,
      "outputs": [
        {
          "output_type": "stream",
          "name": "stdout",
          "text": [
            "Анализ скаффолдов\n",
            "Общее количество: 85,\n",
            "Общая длина: 3869060,\n",
            "Максимальная длина: 2934098,\n",
            "N50: 2934098\n"
          ]
        }
      ]
    },
    {
      "cell_type": "markdown",
      "source": [
        "## Запись наибольших скаффолдов"
      ],
      "metadata": {
        "id": "tal-BQs0y9qK"
      }
    },
    {
      "cell_type": "code",
      "source": [
        "# записываем в файл масимальный скаффолд\n",
        "max_seq = analysis(open(\"Poil_scaffold_extra.fa\", \"r\"), \"Анализ скаффолдов\", return_max_seq=True)\n",
        "get_file(max_seq, \"longest_extra.fa\")"
      ],
      "metadata": {
        "id": "cuP8bZJty0gu"
      },
      "execution_count": 5,
      "outputs": []
    },
    {
      "cell_type": "code",
      "source": [
        "# записываем максимальный скаффолд для уменьшенного кол-ва гэпов\n",
        "max_seq = analysis(open(\"Poil_gapClosed_extra.fa\", \"r\"), \"Анализ скаффолдов\", return_max_seq=True)\n",
        "get_file(max_seq, \"longest_trim_extra.fa\")"
      ],
      "metadata": {
        "id": "hna9gsApzFKM"
      },
      "execution_count": 6,
      "outputs": []
    },
    {
      "cell_type": "markdown",
      "source": [
        "## Гэпы"
      ],
      "metadata": {
        "id": "kX3mfSL1zYsJ"
      }
    },
    {
      "cell_type": "markdown",
      "source": [
        "### до уменьшения"
      ],
      "metadata": {
        "id": "zrFGvayQzXUh"
      }
    },
    {
      "cell_type": "code",
      "source": [
        "# общая длина\n",
        "max_seq = analysis(open(\"Poil_scaffold_extra.fa\", \"r\"), \"Анализ скаффолдов\", return_max_seq=True)\n",
        "print(f'Общая длина гэпов: {max_seq.count(\"N\")}')\n",
        "\n",
        "# количество гэпов\n",
        "max_seq = re.sub(r'N{2,}', 'N', max_seq)\n",
        "print(f'Количество гэпов: {max_seq.count(\"N\")}')"
      ],
      "metadata": {
        "colab": {
          "base_uri": "https://localhost:8080/"
        },
        "outputId": "e89b9adf-3c99-4d0e-b98b-7bcc3134cf48",
        "id": "5UTAwo6CzXUi"
      },
      "execution_count": 8,
      "outputs": [
        {
          "output_type": "stream",
          "name": "stdout",
          "text": [
            "Общая длина гэпов: 6693\n",
            "Количество гэпов: 59\n"
          ]
        }
      ]
    },
    {
      "cell_type": "markdown",
      "source": [
        "### после уменьшения"
      ],
      "metadata": {
        "id": "82f78_fQzXUj"
      }
    },
    {
      "cell_type": "code",
      "source": [
        "# общая длина\n",
        "max_seq = analysis(open(\"Poil_gapClosed_extra.fa\", \"r\"), \"Анализ скаффолдов\", return_max_seq=True)\n",
        "print(f'Общая длина гэпов: {max_seq.count(\"N\")}')\n",
        "\n",
        "# количество гэпов\n",
        "max_seq = re.sub(r'N{2,}', 'N', max_seq)\n",
        "print(f'Количество гэпов: {max_seq.count(\"N\")}')"
      ],
      "metadata": {
        "colab": {
          "base_uri": "https://localhost:8080/"
        },
        "outputId": "4730bd6b-687e-423e-976e-4eb754873ac6",
        "id": "qSiOSTnZzXUj"
      },
      "execution_count": 9,
      "outputs": [
        {
          "output_type": "stream",
          "name": "stdout",
          "text": [
            "Общая длина гэпов: 2106\n",
            "Количество гэпов: 9\n"
          ]
        }
      ]
    }
  ]
}